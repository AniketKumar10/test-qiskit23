{
 "cells": [
  {
   "cell_type": "code",
   "execution_count": 1,
   "metadata": {},
   "outputs": [],
   "source": [
    "import numpy as np\n",
    "\n",
    "mu = np.array([2.5, 4.2, 1])\n",
    "sigma = np.array([[1, 0, -1],\n",
    "                 [0, 1, 0.7],\n",
    "                 [-1, 0.7, 1]])\n",
    "\n",
    "budget = 2 #selecting 2 of the therr assets\n",
    "risk_factor = 0.7 # riskfactor \"q\""
   ]
  },
  {
   "cell_type": "code",
   "execution_count": 2,
   "metadata": {},
   "outputs": [],
   "source": [
    "from qiskit_finance.applications.optimization import PortfolioOptimization\n",
    "\n",
    "popt = PortfolioOptimization(expected_returns=mu, covariances=sigma, risk_factor=risk_factor, budget=budget)\n"
   ]
  },
  {
   "cell_type": "code",
   "execution_count": 3,
   "metadata": {},
   "outputs": [
    {
     "name": "stdout",
     "output_type": "stream",
     "text": [
      "minimize 0.7*x_0^2 - 1.4*x_0*x_2 + 0.7*x_1^2 + 0.9799999999999999*x_1*x_2 + 0.7*x_2^2 - 2.5*x_0 - 4.2*x_1 - x_2 (3 variables, 1 constraints, 'Portfolio optimization')\n"
     ]
    }
   ],
   "source": [
    "qp = popt.to_quadratic_program()\n",
    "print(qp)"
   ]
  },
  {
   "cell_type": "code",
   "execution_count": 4,
   "metadata": {},
   "outputs": [
    {
     "name": "stdout",
     "output_type": "stream",
     "text": [
      "fval=-5.300000000000001, x_0=1.0, x_1=1.0, x_2=0.0, status=SUCCESS\n"
     ]
    }
   ],
   "source": [
    "from qiskit_optimization.algorithms import CplexOptimizer\n",
    "cplex_optimizer = CplexOptimizer()\n",
    "cplex_result = cplex_optimizer.solve(qp)\n",
    "\n",
    "print(cplex_result)"
   ]
  }
 ],
 "metadata": {
  "kernelspec": {
   "display_name": "Python 3",
   "language": "python",
   "name": "python3"
  },
  "language_info": {
   "codemirror_mode": {
    "name": "ipython",
    "version": 3
   },
   "file_extension": ".py",
   "mimetype": "text/x-python",
   "name": "python",
   "nbconvert_exporter": "python",
   "pygments_lexer": "ipython3",
   "version": "3.10.5"
  },
  "orig_nbformat": 4
 },
 "nbformat": 4,
 "nbformat_minor": 2
}
